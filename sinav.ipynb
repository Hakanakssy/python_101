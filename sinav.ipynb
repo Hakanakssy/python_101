{
 "cells": [
  {
   "cell_type": "code",
   "execution_count": 3,
   "metadata": {},
   "outputs": [
    {
     "name": "stdout",
     "output_type": "stream",
     "text": [
      "Dairenin Alanı:78.5 \n",
      "Dairelerin Çevresi:31.400000000000002\n"
     ]
    }
   ],
   "source": [
    "def dikdortgen():\n",
    "    kk = int(input(\"Kısa Kenarı Giriniz\"))\n",
    "    uk = int(input(\"Uzun Kenarı Giriniz\"))\n",
    "    dc = 2*(kk + uk)\n",
    "    da = kk*uk\n",
    "    print(f\"Alan: {da}\\nÇevre: {dc}\")\n",
    "\n",
    "def daire():\n",
    "    r = float(input(\"Yarıçapı Giriniz\"))\n",
    "    pi = float(3.14)\n",
    "    da=pi*(r**2)\n",
    "    dc=2*pi*r\n",
    "    print(f\"Dairenin Alanı:{da} \\nDairelerin Çevresi:{dc}\")\n",
    "\n",
    "islem = int(input(\"daire için 1 dikdörtgen için 2\"))\n",
    "if islem == 1:\n",
    "    dikdortgen()\n",
    "elif islem==2:\n",
    "    daire()\n",
    "else:\n",
    "    print(\"Hatalı işlem yaptınız\")"
   ]
  },
  {
   "cell_type": "code",
   "execution_count": 4,
   "metadata": {},
   "outputs": [
    {
     "name": "stdout",
     "output_type": "stream",
     "text": [
      "Alan: 50\n",
      "Çevre: 30\n"
     ]
    },
    {
     "ename": "ValueError",
     "evalue": "invalid literal for int() with base 10: ''",
     "output_type": "error",
     "traceback": [
      "\u001b[1;31m---------------------------------------------------------------------------\u001b[0m",
      "\u001b[1;31mValueError\u001b[0m                                Traceback (most recent call last)",
      "Cell \u001b[1;32mIn[4], line 16\u001b[0m\n\u001b[0;32m     13\u001b[0m     \u001b[38;5;28mprint\u001b[39m(\u001b[38;5;124mf\u001b[39m\u001b[38;5;124m\"\u001b[39m\u001b[38;5;124mDairenin Alanı:\u001b[39m\u001b[38;5;132;01m{\u001b[39;00mda\u001b[38;5;132;01m}\u001b[39;00m\u001b[38;5;124m \u001b[39m\u001b[38;5;130;01m\\n\u001b[39;00m\u001b[38;5;124mDairelerin Çevresi:\u001b[39m\u001b[38;5;132;01m{\u001b[39;00mdc\u001b[38;5;132;01m}\u001b[39;00m\u001b[38;5;124m\"\u001b[39m)\n\u001b[0;32m     15\u001b[0m \u001b[38;5;28;01mwhile\u001b[39;00m \u001b[38;5;28;01mTrue\u001b[39;00m:\n\u001b[1;32m---> 16\u001b[0m     islem \u001b[38;5;241m=\u001b[39m \u001b[38;5;28;43mint\u001b[39;49m\u001b[43m(\u001b[49m\u001b[38;5;28;43minput\u001b[39;49m\u001b[43m(\u001b[49m\u001b[38;5;124;43m\"\u001b[39;49m\u001b[38;5;124;43mdaire için 1 dikdörtgen için  2 giriniz.\u001b[39;49m\u001b[38;5;124;43m\"\u001b[39;49m\u001b[43m)\u001b[49m\u001b[43m)\u001b[49m\n\u001b[0;32m     17\u001b[0m     \u001b[38;5;28;01mif\u001b[39;00m islem \u001b[38;5;241m==\u001b[39m \u001b[38;5;241m1\u001b[39m:\n\u001b[0;32m     18\u001b[0m         dikdortgen()\n",
      "\u001b[1;31mValueError\u001b[0m: invalid literal for int() with base 10: ''"
     ]
    }
   ],
   "source": [
    "def dikdortgen():\n",
    "    kk = int(input(\"Kısa Kenarı Giriniz\"))\n",
    "    uk = int(input(\"Uzun Kenarı Giriniz\"))\n",
    "    dc = 2*(kk + uk)\n",
    "    da = kk*uk\n",
    "    print(f\"Alan: {da}\\nÇevre: {dc}\")\n",
    "\n",
    "def daire():\n",
    "    r = float(input(\"Yarıçapı Giriniz\"))\n",
    "    pi = float(3.14)\n",
    "    da=pi*(r**2)\n",
    "    dc=2*pi*r\n",
    "    print(f\"Dairenin Alanı:{da} \\nDairelerin Çevresi:{dc}\")\n",
    "\n",
    "while True:\n",
    "    islem = int(input(\"daire için 1 dikdörtgen için  2 giriniz.\"))\n",
    "    if islem == 1:\n",
    "        dikdortgen()\n",
    "    elif islem==2:\n",
    "        daire()\n",
    "    else:\n",
    "        print(\"hatalı işlem\")"
   ]
  },
  {
   "cell_type": "code",
   "execution_count": null,
   "metadata": {},
   "outputs": [],
   "source": [
    "isim = str(input(\"isminizi giriniz\"))\n",
    "sayac = 0\n",
    "while sayac<len[isim]:\n",
    "    print(isim[sayac])\n",
    "    sayac +=1\n",
    "else:\n",
    "    print(\"bitti\")"
   ]
  }
 ],
 "metadata": {
  "kernelspec": {
   "display_name": "Python 3",
   "language": "python",
   "name": "python3"
  },
  "language_info": {
   "codemirror_mode": {
    "name": "ipython",
    "version": 3
   },
   "file_extension": ".py",
   "mimetype": "text/x-python",
   "name": "python",
   "nbconvert_exporter": "python",
   "pygments_lexer": "ipython3",
   "version": "3.11.2"
  }
 },
 "nbformat": 4,
 "nbformat_minor": 2
}
