{
 "cells": [
  {
   "cell_type": "code",
   "execution_count": 13,
   "metadata": {
    "dotnet_interactive": {
     "language": "csharp"
    },
    "polyglot_notebook": {
     "kernelName": "csharp"
    }
   },
   "outputs": [
    {
     "name": "stdout",
     "output_type": "stream",
     "text": [
      "hello world\n"
     ]
    }
   ],
   "source": [
    "print(\"hello world\")"
   ]
  },
  {
   "cell_type": "markdown",
   "metadata": {},
   "source": []
  },
  {
   "cell_type": "code",
   "execution_count": 14,
   "metadata": {},
   "outputs": [
    {
     "data": {
      "text/plain": [
       "int"
      ]
     },
     "execution_count": 14,
     "metadata": {},
     "output_type": "execute_result"
    }
   ],
   "source": [
    "type(5)"
   ]
  },
  {
   "cell_type": "code",
   "execution_count": 15,
   "metadata": {},
   "outputs": [
    {
     "data": {
      "text/plain": [
       "float"
      ]
     },
     "execution_count": 15,
     "metadata": {},
     "output_type": "execute_result"
    }
   ],
   "source": [
    "type(4.2)"
   ]
  },
  {
   "cell_type": "code",
   "execution_count": 16,
   "metadata": {},
   "outputs": [
    {
     "data": {
      "text/plain": [
       "str"
      ]
     },
     "execution_count": 16,
     "metadata": {},
     "output_type": "execute_result"
    }
   ],
   "source": [
    "type(\"naber\")"
   ]
  },
  {
   "cell_type": "code",
   "execution_count": 17,
   "metadata": {},
   "outputs": [
    {
     "data": {
      "text/plain": [
       "bool"
      ]
     },
     "execution_count": 17,
     "metadata": {},
     "output_type": "execute_result"
    }
   ],
   "source": [
    "type(False)"
   ]
  },
  {
   "attachments": {},
   "cell_type": "markdown",
   "metadata": {},
   "source": [
    "type casting = tür dönüşümü"
   ]
  },
  {
   "cell_type": "code",
   "execution_count": 18,
   "metadata": {},
   "outputs": [
    {
     "data": {
      "text/plain": [
       "5"
      ]
     },
     "execution_count": 18,
     "metadata": {},
     "output_type": "execute_result"
    }
   ],
   "source": [
    "int(5.9)"
   ]
  },
  {
   "attachments": {},
   "cell_type": "markdown",
   "metadata": {},
   "source": [
    "Operators;\n",
    "+ toplama\n",
    "- çıkarma \n",
    "* çarpma \n",
    "/ bölme --işleme giren veri tipi ne olursa olsun sonuç float olur. \n",
    "// bölme(int division) --işleme giren veri tiplerinden her ikisi de int ise sonuç int olur\n",
    "** üs alma\n",
    "% kalan(mod)\n",
    "print() yazdır abi "
   ]
  },
  {
   "attachments": {},
   "cell_type": "markdown",
   "metadata": {},
   "source": [
    "String olayları;\n",
    "\"\" ile\n",
    "'' ile de str tip yazılır ama neyle başlandıysa onunla bitirilmesi gerekiyor.\n",
    "! Successive Birleştirme ! string verileri tekrarlayan şekilde yazmak için çarpım işlemi yapar gibi yazarız "
   ]
  },
  {
   "cell_type": "code",
   "execution_count": 19,
   "metadata": {},
   "outputs": [
    {
     "data": {
      "text/plain": [
       "' naber naber naber naber'"
      ]
     },
     "execution_count": 19,
     "metadata": {},
     "output_type": "execute_result"
    }
   ],
   "source": [
    "#succesive concatenation\n",
    "4*\" naber\""
   ]
  },
  {
   "attachments": {},
   "cell_type": "markdown",
   "metadata": {},
   "source": [
    "len() dizi uzunluğunu verir (bknz. yakın akarabası Length() )"
   ]
  },
  {
   "attachments": {},
   "cell_type": "markdown",
   "metadata": {},
   "source": [
    "Stirng index olayları;\n",
    "[] ile index numarası yazılır ve her zamanki gibi index 0 dan başlar.\n",
    "[x:y]  ifadesi ile str dizi içindeki x' den y'ye kadar olan elemanarı getirir.\n",
    "[x:] ifadesinde str dizinin sonunu alır.\n",
    "[:y] ifadesinde default olarak 0.İndexi başlangış alır.\n",
    "[x:y:z] ifadesi ile başlangıç:bitiş:adım yani x' ten y' ye kadar z kadar atlayarak git."
   ]
  },
  {
   "attachments": {},
   "cell_type": "markdown",
   "metadata": {},
   "source": [
    "string de casting olayı;\n",
    "içerisinde tek tipte ifade tutan değişkenler \"veritipi(değiştirilecek_değişken)\" ifadesiyle casting yani dönüşümü yapar."
   ]
  },
  {
   "attachments": {},
   "cell_type": "markdown",
   "metadata": {},
   "source": [
    "input abim geldi; \n"
   ]
  },
  {
   "cell_type": "markdown",
   "metadata": {},
   "source": [
    "\n",
    "input komutu içine default olarak str tipi veri tutar. Eğer ki casting(dönüşüm) yapmak istersek veya istediğimiz tipte dönüşüm olsun istersek veritipi(input(girilen_değer)) mantığıyla yapılabilir."
   ]
  },
  {
   "cell_type": "code",
   "execution_count": 20,
   "metadata": {},
   "outputs": [],
   "source": [
    "x=input(\"ahmet naber\")"
   ]
  },
  {
   "attachments": {},
   "cell_type": "markdown",
   "metadata": {},
   "source": [
    "Mantıksal operatörler;\n",
    "i==j eşitse\n",
    "i!=j eşit değilse\n",
    "i<=j büyük eşit\n",
    "i>=j küçük eşit\n",
    "<>  biliyon zaten büyüktür küçüktür yazamadım şimdi"
   ]
  },
  {
   "attachments": {},
   "cell_type": "markdown",
   "metadata": {},
   "source": [
    "NOT, AND bu adamlar farklı ama bir yerden gözüm ısırıyor;\n",
    "not operatörü not(5==5) işlemi false döner ama normalde true dönmesi gerekirdi bu işlemin sonucunu not ile çevirdik\n",
    "& and operatörü ve anlamı gibi hareket eder işlem sonuçlarının birbirine eşitliğine bakar\n",
    "| or operatörü ya da anlamı gibi hareket eder işlemlerden en az birinin istenilen değeri döndürmesine bakar\n",
    "\n",
    "short curcuit= daha çok and ile çalışırken karşımıza çıkıcak bu olayda --(2>5) and print(\"naber\")-- ifadesinde 2, 5 den büyük olmadığı için false döner ve devamında and operatörü geldiği için bilgisayar bu denklemden false döneceğini bilir ve and den sonra gelen print ifadesi ekrana yazılmaz. Or ile bu durum şöle gerçekleşir,\n",
    " --(2>5) or print(\"naber\")-- or operatörü ikisinden birisi true olsa true döndürdüğü için iki ifadeyi de çalıştırır ve geriye sadece print döner.\n",
    "\n",
    "not-short curcuit= and ve or verine & ve | kullanırsak bilgisayar her iki tarafa da bakarak öyle geriye değer döndürür --(2>5) & print(\"naber\")-- ifadesinde aldığımız değer hata ile print çıktısıdır. Çünkü her iki tarafında bakılmasından dolayı denklemin bir parçasının aslında bool değer döndürmediği için hata alırız ve bununla beraber çıktıyı.\n",
    "(2>5) & (2==2) Şeklinde bir denklem olsaydı da bunun değeri false olurdu. Konu tamamıyla sembol operatörlerin bilgisayar için daha çok iş yaptırması ile alakalı."
   ]
  },
  {
   "cell_type": "code",
   "execution_count": 21,
   "metadata": {},
   "outputs": [
    {
     "data": {
      "text/plain": [
       "False"
      ]
     },
     "execution_count": 21,
     "metadata": {},
     "output_type": "execute_result"
    }
   ],
   "source": [
    "(2>5) & (2==2)"
   ]
  },
  {
   "cell_type": "markdown",
   "metadata": {},
   "source": [
    "ELSE - ELİF - ELSE olayı;\n",
    "diğer öğrendiğin dillerden farklı olarak else if değil artık elif var hayırlı olsun hee bir de unutmadan python kodluyorsun artık parantezde kullanmaman lazım burada\n",
    "if bool_değer : \n",
    "    kod_bloğu\n",
    "elif bool_değer : \n",
    "    kod_bloğu\n",
    "else : \n",
    "    kod_bloğu    "
   ]
  },
  {
   "cell_type": "code",
   "execution_count": 22,
   "metadata": {},
   "outputs": [
    {
     "ename": "NameError",
     "evalue": "name 'bool_değer' is not defined",
     "output_type": "error",
     "traceback": [
      "\u001b[1;31m---------------------------------------------------------------------------\u001b[0m",
      "\u001b[1;31mNameError\u001b[0m                                 Traceback (most recent call last)",
      "Cell \u001b[1;32mIn[22], line 1\u001b[0m\n\u001b[1;32m----> 1\u001b[0m \u001b[39mif\u001b[39;00m bool_değer : \n\u001b[0;32m      2\u001b[0m     kod_bloğu\n\u001b[0;32m      3\u001b[0m \u001b[39melif\u001b[39;00m bool_değer : \n",
      "\u001b[1;31mNameError\u001b[0m: name 'bool_değer' is not defined"
     ]
    }
   ],
   "source": [
    "if bool_değer : \n",
    "    kod_bloğu\n",
    "elif bool_değer : \n",
    "    kod_bloğu\n",
    "else : \n",
    "    kod_bloğu    "
   ]
  },
  {
   "attachments": {},
   "cell_type": "markdown",
   "metadata": {},
   "source": [
    "Ternary conditionals; \n",
    "nam-ı diğer tek satırda if-else "
   ]
  },
  {
   "cell_type": "code",
   "execution_count": null,
   "metadata": {},
   "outputs": [
    {
     "name": "stdout",
     "output_type": "stream",
     "text": [
      "0\n"
     ]
    }
   ],
   "source": [
    "cevap = input(\"x' in değeri 2 olsun mu? y/n \\n\")\n",
    "x=2 if cevap==\"y\" else 0 \n",
    "print(x)"
   ]
  },
  {
   "attachments": {},
   "cell_type": "markdown",
   "metadata": {},
   "source": [
    "DÖNGÜLER geldi abisinniiiin"
   ]
  },
  {
   "attachments": {},
   "cell_type": "markdown",
   "metadata": {},
   "source": [
    "while döngüsü= tanımlanan koşul sağlandıkça dönen bir döngüdür. Döngü sayısı belirsizdir çünkü tanımlanan koşulun tetiklenmesi gerekmektedir."
   ]
  },
  {
   "cell_type": "code",
   "execution_count": null,
   "metadata": {},
   "outputs": [
    {
     "name": "stdout",
     "output_type": "stream",
     "text": [
      "girilen değer negarif ve -1\n",
      "girilen değer negarif ve -5\n",
      "girilen değer pozitif ve 2\n"
     ]
    }
   ],
   "source": [
    "x=int(input(\"x değerini giriniz\"))\n",
    "while x<0 :\n",
    "    print(\"girilen değer negarif ve \"+str(x))\n",
    "    x=int(input(\"girilen değer negatif lütfen pozitif bir değer girin\"))\n",
    "print(\"girilen değer pozitif ve \"+str(x))"
   ]
  },
  {
   "attachments": {},
   "cell_type": "markdown",
   "metadata": {},
   "source": [
    "for döngüsü = tanıdık bir sima ama sanki farklı kıyafetlerle...syntax dan şaşırmayalım :D for -değişken- in -obje-  :"
   ]
  },
  {
   "attachments": {},
   "cell_type": "markdown",
   "metadata": {},
   "source": [
    "range metodu = for döngüsündeki eleman sayısını girdiğimiz yer. dikkat edilemsi gereken nokta range() metodu içine girdiğimiz sayı kadar döner."
   ]
  },
  {
   "cell_type": "code",
   "execution_count": null,
   "metadata": {},
   "outputs": [
    {
     "name": "stdout",
     "output_type": "stream",
     "text": [
      "0\n",
      "1\n",
      "3\n",
      "6\n",
      "10\n"
     ]
    }
   ],
   "source": [
    "toplam=0\n",
    "for i in range(5):\n",
    "    toplam+= i\n",
    "    print(toplam)"
   ]
  },
  {
   "attachments": {},
   "cell_type": "markdown",
   "metadata": {},
   "source": [
    "break = bulunduğu döngüyü kırar. continue = kendinden sonra gelenleri pas geçer."
   ]
  },
  {
   "cell_type": "code",
   "execution_count": null,
   "metadata": {},
   "outputs": [
    {
     "name": "stdout",
     "output_type": "stream",
     "text": [
      "i:  1\n",
      "i:  2\n",
      "i:  4\n",
      "i:  6\n",
      "i:  7\n",
      "i:  8\n",
      "i:  9\n",
      "i:  10\n"
     ]
    }
   ],
   "source": [
    "i=0\n",
    "while(i<10):\n",
    "    if(i==3 or i==5):\n",
    "      continue\n",
    "    print(\"i: \",i)\n",
    "    i=i+1"
   ]
  },
  {
   "attachments": {},
   "cell_type": "markdown",
   "metadata": {},
   "source": [
    "Listeler bismillah;\n"
   ]
  },
  {
   "attachments": {},
   "cell_type": "markdown",
   "metadata": {},
   "source": [
    "liste tanımlama "
   ]
  },
  {
   "cell_type": "code",
   "execution_count": 28,
   "metadata": {},
   "outputs": [
    {
     "name": "stdout",
     "output_type": "stream",
     "text": [
      "1\n",
      "berke\n",
      "[1, 2, 3]\n",
      "6\n",
      "[1, 2, 3, 4, 5]\n"
     ]
    }
   ],
   "source": [
    "list1= [1,2,3,4,5,6,\"hakan\",\"ahmet\",\"berke\"]\n",
    "print(list1[0]) #ilk index yazdırıldı.\n",
    "print(list1[-1]) #son index yazdırıldı.\n",
    "len(list1) #listenin içindeki eleman sayısı yazıldı.\n",
    "liste = [[1,2,3],[4,5,6],[7,8,9],10] #liste içinde liste gösterimi.\n",
    "print(liste[0])     # [1,2,3]\n",
    "print(liste[1][2]) #6 \n",
    "print(list1[0:5]) #0 dan 5.indexe kadar yazdırır\n",
    "liste=list1+liste #iki liste birleştirildi  \n",
    "        "
   ]
  },
  {
   "cell_type": "code",
   "execution_count": 25,
   "metadata": {},
   "outputs": [
    {
     "name": "stdout",
     "output_type": "stream",
     "text": [
      "ahmet\n",
      "mehmet\n",
      "cenk\n"
     ]
    }
   ],
   "source": [
    "names = ['ahmet','mehmet','cenk']\n",
    "surnames = ['yılmaz','turan','durmuş']\n",
    "\n",
    "result = names[0] +' '+ surnames[0]  # ahmet yılmaz\n",
    "result = names[1] +' '+ surnames[1]  # mehmet turan\n",
    "\n",
    "names = ['ahmet','mehmet','cenk'] #liste elemanlarını yazdırma\n",
    "for name in names:\n",
    "   print(name)\n",
    "##listler içindeki öğeler değiştirilebilir."
   ]
  },
  {
   "attachments": {},
   "cell_type": "markdown",
   "metadata": {},
   "source": [
    "TUPLE;\n",
    "listin köşeli yerine normal parantezli halidir. Değiştirilemezdir.(immutabledır) "
   ]
  },
  {
   "attachments": {},
   "cell_type": "markdown",
   "metadata": {},
   "source": [
    "in = Belirli bir eleman listede veya tuple'da var mı diye in keyword'ü ile sorgu yapabilirim. Bunun içinde var mı? şekilde türkçeleştirebiliriz."
   ]
  },
  {
   "attachments": {},
   "cell_type": "markdown",
   "metadata": {},
   "source": [
    "Dictionaries= \"{}\" parantez ile tanımlanır.Muteable(değiştirilebilir). Syntax or_dict={\"key1\":value1,\"key2\":value2,... }. İndex numarası yerine her veriye bir isim ve bir değer atanması diyebiliriz"
   ]
  },
  {
   "cell_type": "code",
   "execution_count": null,
   "metadata": {},
   "outputs": [],
   "source": [
    "ogrenciler = {\"Deniz\": {\"not\":80, \"ogrenci_no\":703}, \"Ege\":{\"not\":72, \"ogrenci_no\":408}, \"Gizem\": {\"not\":95, \"ogrenci_no\":690}}"
   ]
  },
  {
   "attachments": {},
   "cell_type": "markdown",
   "metadata": {},
   "source": [
    "Dictionary'ler key-value mantığı ile çalışıyor. O yüzden biz notlar[0] gibi bir sorgu yaptığımızda, 0 diye bir key var mı diye bakıyor yoksa hata veriyor."
   ]
  },
  {
   "cell_type": "code",
   "execution_count": 1,
   "metadata": {},
   "outputs": [
    {
     "ename": "NameError",
     "evalue": "name 'ogrenciler' is not defined",
     "output_type": "error",
     "traceback": [
      "\u001b[1;31m---------------------------------------------------------------------------\u001b[0m",
      "\u001b[1;31mNameError\u001b[0m                                 Traceback (most recent call last)",
      "Cell \u001b[1;32mIn[1], line 1\u001b[0m\n\u001b[1;32m----> 1\u001b[0m ogrenciler [\u001b[39m0\u001b[39m]\n",
      "\u001b[1;31mNameError\u001b[0m: name 'ogrenciler' is not defined"
     ]
    }
   ],
   "source": [
    "ogrenciler [0]"
   ]
  },
  {
   "attachments": {},
   "cell_type": "markdown",
   "metadata": {},
   "source": [
    "Value Değerlerini Değiştirmek. Diyelim ki Ege'nin notu yanlış okunmuş, notunu 5 puan arttıracağız."
   ]
  },
  {
   "cell_type": "code",
   "execution_count": 9,
   "metadata": {},
   "outputs": [
    {
     "name": "stdout",
     "output_type": "stream",
     "text": [
      "72\n",
      "77\n"
     ]
    }
   ],
   "source": [
    "notlar={'Deniz': 80, 'Ege': 72, 'Gizem': 95}\n",
    "print(notlar[\"Ege\"])\n",
    "notlar[\"Ege\"] = notlar[\"Ege\"] + 5\n",
    "print(notlar['Ege'])"
   ]
  },
  {
   "attachments": {},
   "cell_type": "markdown",
   "metadata": {},
   "source": [
    "Eleman Eklemek. Dictionary'lere eleman eklemek gerçekten kolay. Tamam yazmayı bırakıp direkt göstereyim:"
   ]
  },
  {
   "cell_type": "code",
   "execution_count": 14,
   "metadata": {},
   "outputs": [
    {
     "name": "stdout",
     "output_type": "stream",
     "text": [
      "{'Deniz': 80, 'Ege': 77, 'Gizem': 95}\n",
      "{'Deniz': 80, 'Ege': 77, 'Gizem': 95, 'Mert': 58}\n"
     ]
    }
   ],
   "source": [
    "print(notlar) #mert in çıkmaması lazım ilk çıktıda eğer çıkarsa üstteki veri değiştirmeyi çalıştır sonra burayı çalıştır.\n",
    "notlar[\"Mert\"] = 58\n",
    "print(notlar)"
   ]
  },
  {
   "attachments": {},
   "cell_type": "markdown",
   "metadata": {},
   "source": [
    "Eleman Silmek = Eleman silmeyi del keyword'ü ile yapabiliriz."
   ]
  },
  {
   "cell_type": "code",
   "execution_count": 15,
   "metadata": {},
   "outputs": [
    {
     "name": "stdout",
     "output_type": "stream",
     "text": [
      "{'Deniz': 80, 'Ege': 77, 'Gizem': 95}\n"
     ]
    }
   ],
   "source": [
    "del notlar[\"Mert\"]\n",
    "print(notlar)"
   ]
  },
  {
   "attachments": {},
   "cell_type": "markdown",
   "metadata": {},
   "source": [
    "in komutu için dictionary ve setler daha hızlıdır."
   ]
  },
  {
   "attachments": {},
   "cell_type": "markdown",
   "metadata": {},
   "source": [
    "SET= kümelere benzetebiliriz içerisinde aynı değerden sadece bir tane tutar. Aynı uzunluktaki dictionary den daha az yer kaplar.Syntax \"{}\" ile oluşturulur, or_set={1,5,3,4,8,6,7,9,...}. "
   ]
  },
  {
   "attachments": {},
   "cell_type": "markdown",
   "metadata": {},
   "source": [
    "BOŞ SET OLUŞTURMAK = S=SET()"
   ]
  },
  {
   "attachments": {},
   "cell_type": "markdown",
   "metadata": {},
   "source": [
    "Daha önceden oluşturulmuş list,tuple ve string listeden set oluşturulabilir fakat yalnızca tek olan değerleri tuttuğu için tekrarlayan değerlerin yalnızca birini alır"
   ]
  },
  {
   "cell_type": "code",
   "execution_count": 18,
   "metadata": {},
   "outputs": [
    {
     "name": "stdout",
     "output_type": "stream",
     "text": [
      "{1, 2, 3, 4}\n"
     ]
    }
   ],
   "source": [
    "l = [1,2,3,4,1,2]\n",
    "s = set(l)\n",
    "print(s)"
   ]
  },
  {
   "attachments": {},
   "cell_type": "markdown",
   "metadata": {},
   "source": [
    "SETLER İNDEXLENEMEZ"
   ]
  },
  {
   "cell_type": "code",
   "execution_count": null,
   "metadata": {},
   "outputs": [],
   "source": [
    "s.add(5) #eleman ekleme\n",
    "s.remove(5) #eleman silme (olmayan elemanı silmeye kalkarsan hata verir)\n",
    "s.discard(5) #varsa sil yoksa da hata verme demek için de discard"
   ]
  },
  {
   "attachments": {},
   "cell_type": "markdown",
   "metadata": {},
   "source": [
    "İki set in değerlerinin farkını nasıl alırım?"
   ]
  },
  {
   "cell_type": "code",
   "execution_count": 21,
   "metadata": {},
   "outputs": [
    {
     "data": {
      "text/plain": [
       "{1, 10}"
      ]
     },
     "execution_count": 21,
     "metadata": {},
     "output_type": "execute_result"
    }
   ],
   "source": [
    "s1=set([1,5,10])\n",
    "s2=set([2,5,3])\n",
    "s1.difference(s2) #s1 in s2 ye göre farklı olan elemanlarını set tipinde geri döndürdü\n",
    "s1-s2 # bu da yukarının aynı işlemi"
   ]
  },
  {
   "attachments": {},
   "cell_type": "markdown",
   "metadata": {},
   "source": [
    "Symmetric diffrence  (simetrik fark) = her iki kümenin de ortak olamyan elemanlarını gösterir"
   ]
  },
  {
   "cell_type": "code",
   "execution_count": 22,
   "metadata": {},
   "outputs": [
    {
     "data": {
      "text/plain": [
       "{1, 2, 3, 10}"
      ]
     },
     "execution_count": 22,
     "metadata": {},
     "output_type": "execute_result"
    }
   ],
   "source": [
    "s1.symmetric_difference(s2)"
   ]
  },
  {
   "attachments": {},
   "cell_type": "markdown",
   "metadata": {},
   "source": [
    "intersection (kesişim) = ortak elemanları gösterir"
   ]
  },
  {
   "cell_type": "code",
   "execution_count": null,
   "metadata": {},
   "outputs": [],
   "source": [
    "s1.intersection(s2)"
   ]
  },
  {
   "attachments": {},
   "cell_type": "markdown",
   "metadata": {},
   "source": [
    "Union (birleşim) = her iki kümenin elemanlarını getirir"
   ]
  },
  {
   "cell_type": "code",
   "execution_count": null,
   "metadata": {},
   "outputs": [],
   "source": [
    "s1.union(s2)"
   ]
  },
  {
   "attachments": {},
   "cell_type": "markdown",
   "metadata": {},
   "source": [
    "Disjoint Sets = kümelerin kesişim kümesi boş kümemi bunu söyler (boolean döndürür)"
   ]
  },
  {
   "cell_type": "code",
   "execution_count": 23,
   "metadata": {},
   "outputs": [
    {
     "data": {
      "text/plain": [
       "False"
      ]
     },
     "execution_count": 23,
     "metadata": {},
     "output_type": "execute_result"
    }
   ],
   "source": [
    "s1.isdisjoint(s2)"
   ]
  },
  {
   "attachments": {},
   "cell_type": "markdown",
   "metadata": {},
   "source": [
    "subset= alt kümesini döndürür"
   ]
  },
  {
   "cell_type": "code",
   "execution_count": 25,
   "metadata": {},
   "outputs": [
    {
     "data": {
      "text/plain": [
       "False"
      ]
     },
     "execution_count": 25,
     "metadata": {},
     "output_type": "execute_result"
    }
   ],
   "source": [
    "s1.issubset(s2)"
   ]
  },
  {
   "attachments": {},
   "cell_type": "markdown",
   "metadata": {},
   "source": [
    "superset = üst küme "
   ]
  },
  {
   "cell_type": "code",
   "execution_count": 24,
   "metadata": {},
   "outputs": [
    {
     "data": {
      "text/plain": [
       "False"
      ]
     },
     "execution_count": 24,
     "metadata": {},
     "output_type": "execute_result"
    }
   ],
   "source": [
    "s1.issuperset(s2)"
   ]
  }
 ],
 "metadata": {
  "kernelspec": {
   "display_name": "Python 3",
   "language": "python",
   "name": "python3"
  },
  "language_info": {
   "codemirror_mode": {
    "name": "ipython",
    "version": 3
   },
   "file_extension": ".py",
   "mimetype": "text/x-python",
   "name": "python",
   "nbconvert_exporter": "python",
   "pygments_lexer": "ipython3",
   "version": "3.11.2"
  },
  "orig_nbformat": 4,
  "polyglot_notebook": {
   "kernelInfo": {
    "defaultKernelName": "csharp",
    "items": [
     {
      "aliases": [],
      "name": "csharp"
     }
    ]
   }
  }
 },
 "nbformat": 4,
 "nbformat_minor": 2
}
